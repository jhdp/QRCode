{
  "cells": [
    {
      "metadata": {
        "trusted": true
      },
      "cell_type": "code",
      "source": "import pyqrcode\nfrom PIL import Image, ImageFont, ImageDraw\nimport ipywidgets as widgets\nfrom ipywidgets import Output\nfrom IPython.display import display,clear_output\nfrom io import BytesIO\nimport base64",
      "execution_count": 242,
      "outputs": []
    },
    {
      "metadata": {
        "trusted": true
      },
      "cell_type": "code",
      "source": "%%HTML\n<script>\n  function code_toggle() {\n    if (code_shown){\n      $('div.input').hide('500');\n      $('#toggleButton').val('Show Code')\n    } else {\n      $('div.input').show('500');\n      $('#toggleButton').val('Hide Code')\n    }\n    code_shown = !code_shown\n  }\n\n  $( document ).ready(function(){\n    code_shown=false;\n    $('div.input').hide()\n  });\n</script>\n<form action=\"javascript:code_toggle()\"><input type=\"submit\" id=\"toggleButton\" value=\"Show Code\"></form",
      "execution_count": 243,
      "outputs": [
        {
          "output_type": "display_data",
          "data": {
            "text/html": "<script>\n  function code_toggle() {\n    if (code_shown){\n      $('div.input').hide('500');\n      $('#toggleButton').val('Show Code')\n    } else {\n      $('div.input').show('500');\n      $('#toggleButton').val('Hide Code')\n    }\n    code_shown = !code_shown\n  }\n\n  $( document ).ready(function(){\n    code_shown=false;\n    $('div.input').hide()\n  });\n</script>\n<form action=\"javascript:code_toggle()\"><input type=\"submit\" id=\"toggleButton\" value=\"Show Code\"></form\n",
            "text/plain": "<IPython.core.display.HTML object>"
          },
          "metadata": {}
        }
      ]
    },
    {
      "metadata": {
        "trusted": true
      },
      "cell_type": "code",
      "source": "def hex_to_rgb(value):\n    value = value.lstrip('#')\n    lv = len(value)\n    return tuple(int(value[i:i + lv // 3], 16) for i in range(0, lv, lv // 3))",
      "execution_count": 244,
      "outputs": []
    },
    {
      "metadata": {
        "trusted": true
      },
      "cell_type": "code",
      "source": "ssidt = widgets.Text(\n    value='',\n    placeholder='Network name',\n    description='SSID:',\n    disabled=False\n)\ndisplay(ssidt)",
      "execution_count": 245,
      "outputs": [
        {
          "output_type": "display_data",
          "data": {
            "application/vnd.jupyter.widget-view+json": {
              "model_id": "2d57cfb8594a4f9a9fb85a6ff8863526",
              "version_minor": 0,
              "version_major": 2
            },
            "text/plain": "Text(value='', description='SSID:', placeholder='Network name')"
          },
          "metadata": {}
        }
      ]
    },
    {
      "metadata": {
        "trusted": true
      },
      "cell_type": "code",
      "source": "pwdt = widgets.Text(\n    value='',\n    placeholder='password',\n    description='Password:',\n    disabled=False\n)\ndisplay(pwdt)",
      "execution_count": 246,
      "outputs": [
        {
          "output_type": "display_data",
          "data": {
            "application/vnd.jupyter.widget-view+json": {
              "model_id": "2aeb34b47fbe44be9d5e972db7c9bb39",
              "version_minor": 0,
              "version_major": 2
            },
            "text/plain": "Text(value='', description='Password:', placeholder='password')"
          },
          "metadata": {}
        }
      ]
    },
    {
      "metadata": {
        "trusted": true
      },
      "cell_type": "code",
      "source": "Security=widgets.RadioButtons(\n    options=['None', 'WPA2', 'WEP'],\n    value='WPA2', \n#    layout={'width': 'max-content'}, # If the items' names are long\n    description='Security:',\n    disabled=False\n)\ndisplay(Security)",
      "execution_count": 247,
      "outputs": [
        {
          "output_type": "display_data",
          "data": {
            "application/vnd.jupyter.widget-view+json": {
              "model_id": "533219f30fa1487eb99842fa536e2f67",
              "version_minor": 0,
              "version_major": 2
            },
            "text/plain": "RadioButtons(description='Security:', index=1, options=('None', 'WPA2', 'WEP'), value='WPA2')"
          },
          "metadata": {}
        }
      ]
    },
    {
      "metadata": {
        "trusted": true
      },
      "cell_type": "code",
      "source": "hidc = widgets.Checkbox(\n    value=False,\n    description='Hidden',\n    disabled=False,\n    indent=False\n)\ndisplay(hidc)",
      "execution_count": 248,
      "outputs": [
        {
          "output_type": "display_data",
          "data": {
            "application/vnd.jupyter.widget-view+json": {
              "model_id": "86d4825fe0524567b886183b901a03c4",
              "version_minor": 0,
              "version_major": 2
            },
            "text/plain": "Checkbox(value=False, description='Hidden', indent=False)"
          },
          "metadata": {}
        }
      ]
    },
    {
      "metadata": {
        "trusted": true
      },
      "cell_type": "code",
      "source": "qcolor=widgets.ColorPicker(\n    concise=False,\n    description='QR Code color',\n    value='#000000',\n    disabled=False\n)\ndisplay(qcolor)",
      "execution_count": 249,
      "outputs": [
        {
          "output_type": "display_data",
          "data": {
            "application/vnd.jupyter.widget-view+json": {
              "model_id": "ed462c1d3c4a4fd8ac60def7c6417529",
              "version_minor": 0,
              "version_major": 2
            },
            "text/plain": "ColorPicker(value='#000000', description='QR Code color')"
          },
          "metadata": {}
        }
      ]
    },
    {
      "metadata": {
        "trusted": true
      },
      "cell_type": "code",
      "source": "bgcolor=widgets.ColorPicker(\n    concise=False,\n    description='Background color',\n    value='#ffffff',\n    disabled=False\n)\ndisplay(bgcolor)",
      "execution_count": 250,
      "outputs": [
        {
          "output_type": "display_data",
          "data": {
            "application/vnd.jupyter.widget-view+json": {
              "model_id": "3f6c0346e4254fc6b079c981b08f0acf",
              "version_minor": 0,
              "version_major": 2
            },
            "text/plain": "ColorPicker(value='#ffffff', description='Background color')"
          },
          "metadata": {}
        }
      ]
    },
    {
      "metadata": {
        "trusted": true
      },
      "cell_type": "code",
      "source": "logo1 = Image.open('images/wifi1.png').convert('RGBA')\nlogo2 = Image.open('images/wifi2.png').convert('RGBA')\nlogo3 = Image.open('images/wifi3.png').convert('RGBA')\nlogo4 = Image.open('images/wifi4.png').convert('RGBA')\nlogo5 = Image.open('images/wifi5.png').convert('RGBA')",
      "execution_count": 251,
      "outputs": []
    },
    {
      "metadata": {
        "trusted": true
      },
      "cell_type": "code",
      "source": "file = open('images/wifi1.png', \"rb\")\nlogo1 = file.read()\nfile = open('images/wifi2.png', \"rb\")\nlogo2 = file.read()\nfile = open('images/wifi3.png', \"rb\")\nlogo3 = file.read()\nfile = open('images/wifi4.png', \"rb\")\nlogo4 = file.read()\nfile = open('images/wifi5.png', \"rb\")\nlogo5 = file.read()",
      "execution_count": 252,
      "outputs": []
    },
    {
      "metadata": {
        "trusted": true
      },
      "cell_type": "code",
      "source": "COLS = 5\nROWS = 1\nIMAGES = [logo1,logo2,logo3,logo4,logo5]\nIMG_WIDTH = 100\nIMG_HEIGHT = 100\nlogo_picture = 'images/wifi1.png'\ndef on_click(index,a):\n    global logo_picture\n    fname = 'images/wifi' + str(index+1) + '.png'\n    logo_picture = fname\n    print('Image %d selected' % index)\n\nimport ipywidgets as widgets\nimport functools\n\nrows = []\n\nfor row in range(ROWS):\n    cols = []\n    for col in range(COLS):\n        index = row * COLS + col\n        image = widgets.Image(\n            value=IMAGES[index], width=IMG_WIDTH, height=IMG_HEIGHT\n        )\n        button = widgets.Button(description='Image %d' % index)\n        # Bind the click event to the on_click function, with our index as argument\n        button.on_click(functools.partial(on_click, index))\n\n        # Create a vertical layout box, image above the button\n        box = widgets.VBox([image, button])\n        cols.append(box)\n\n    # Create a horizontal layout box, grouping all the columns together\n    rows.append(widgets.HBox(cols))\n\n# Create a vertical layout box, grouping all the rows together\nresult = widgets.VBox(rows)",
      "execution_count": 253,
      "outputs": []
    },
    {
      "metadata": {
        "trusted": true
      },
      "cell_type": "code",
      "source": "display(result)",
      "execution_count": 254,
      "outputs": [
        {
          "output_type": "display_data",
          "data": {
            "application/vnd.jupyter.widget-view+json": {
              "model_id": "a896dee16dbb437e8e86aac6935a1e58",
              "version_minor": 0,
              "version_major": 2
            },
            "text/plain": "VBox(children=(HBox(children=(VBox(children=(Image(value=b'\\x89PNG\\r\\n\\x1a\\n\\x00\\x00\\x00\\rIHDR\\x00\\x00\\x06@\\x0…"
          },
          "metadata": {}
        }
      ]
    },
    {
      "metadata": {
        "trusted": true
      },
      "cell_type": "code",
      "source": "pcolor=widgets.ColorPicker(\n    concise=False,\n    description='Picture color',\n    value='#000000',\n    disabled=False\n)\ndisplay(pcolor)",
      "execution_count": 255,
      "outputs": [
        {
          "output_type": "display_data",
          "data": {
            "application/vnd.jupyter.widget-view+json": {
              "model_id": "4ace3ddf9fa143298708507fad2e655b",
              "version_minor": 0,
              "version_major": 2
            },
            "text/plain": "ColorPicker(value='#000000', description='Picture color')"
          },
          "metadata": {}
        }
      ]
    },
    {
      "metadata": {
        "trusted": true
      },
      "cell_type": "code",
      "source": "scale=widgets.IntSlider(\n    value=10,\n    min=5,\n    max=50,\n    step=1,\n    description='QRcode size:',\n    disabled=False,\n    continuous_update=False,\n    orientation='horizontal',\n    readout=True,\n    readout_format='d'\n)\ndisplay(scale)",
      "execution_count": 256,
      "outputs": [
        {
          "output_type": "display_data",
          "data": {
            "application/vnd.jupyter.widget-view+json": {
              "model_id": "75da56db141546fa94c2b666d20d8a6c",
              "version_minor": 0,
              "version_major": 2
            },
            "text/plain": "IntSlider(value=10, continuous_update=False, description='QRcode size:', max=50, min=5)"
          },
          "metadata": {}
        }
      ]
    },
    {
      "metadata": {
        "trusted": true
      },
      "cell_type": "code",
      "source": "bsize=widgets.IntSlider(\n    value=4,\n    min=0,\n    max=20,\n    step=1,\n    description='Border size:',\n    disabled=False,\n    continuous_update=False,\n    orientation='horizontal',\n    readout=True,\n    readout_format='d'\n)\ndisplay(bsize)",
      "execution_count": 257,
      "outputs": [
        {
          "output_type": "display_data",
          "data": {
            "application/vnd.jupyter.widget-view+json": {
              "model_id": "efe6f89c43a5432fade094cc013e7e11",
              "version_minor": 0,
              "version_major": 2
            },
            "text/plain": "IntSlider(value=4, continuous_update=False, description='Border size:', max=20)"
          },
          "metadata": {}
        }
      ]
    },
    {
      "metadata": {
        "trusted": true
      },
      "cell_type": "code",
      "source": "lsize=widgets.IntSlider(\n    value=150,\n    min=50,\n    max=180,\n    step=1,\n    description='Picture size:',\n    disabled=False,\n    continuous_update=False,\n    orientation='horizontal',\n    readout=True,\n    readout_format='d'\n)\ndisplay(lsize)",
      "execution_count": 258,
      "outputs": [
        {
          "output_type": "display_data",
          "data": {
            "application/vnd.jupyter.widget-view+json": {
              "model_id": "6d26beb285ff44639d755ed45d6b7459",
              "version_minor": 0,
              "version_major": 2
            },
            "text/plain": "IntSlider(value=150, continuous_update=False, description='Picture size:', max=180, min=50)"
          },
          "metadata": {}
        }
      ]
    },
    {
      "metadata": {
        "trusted": true
      },
      "cell_type": "code",
      "source": "qrtxt = widgets.Text(\n    value='',\n    placeholder='optional text',\n    description='Heading:',\n    disabled=False\n)\ndisplay(qrtxt)",
      "execution_count": 259,
      "outputs": [
        {
          "output_type": "display_data",
          "data": {
            "application/vnd.jupyter.widget-view+json": {
              "model_id": "5316c777c1e5473db8cb95edae00fe16",
              "version_minor": 0,
              "version_major": 2
            },
            "text/plain": "Text(value='', description='Heading:', placeholder='optional text')"
          },
          "metadata": {}
        }
      ]
    },
    {
      "metadata": {
        "trusted": true
      },
      "cell_type": "code",
      "source": "fsize=widgets.IntSlider(\n    value=28,\n    min=5,\n    max=50,\n    step=1,\n    description='Font size:',\n    disabled=False,\n    continuous_update=False,\n    orientation='horizontal',\n    readout=True,\n    readout_format='d'\n)\ndisplay(fsize)",
      "execution_count": 260,
      "outputs": [
        {
          "output_type": "display_data",
          "data": {
            "application/vnd.jupyter.widget-view+json": {
              "model_id": "c39b9849966b4b2ca8837c1697a1f527",
              "version_minor": 0,
              "version_major": 2
            },
            "text/plain": "IntSlider(value=28, continuous_update=False, description='Font size:', max=50, min=5)"
          },
          "metadata": {}
        }
      ]
    },
    {
      "metadata": {
        "trusted": true
      },
      "cell_type": "code",
      "source": "fcolor=widgets.ColorPicker(\n    concise=False,\n    description='Picture color',\n    value='#000000',\n    disabled=False\n)\ndisplay(fcolor)",
      "execution_count": 261,
      "outputs": [
        {
          "output_type": "display_data",
          "data": {
            "application/vnd.jupyter.widget-view+json": {
              "model_id": "a3abc2ac968248e8943238a0daddc20a",
              "version_minor": 0,
              "version_major": 2
            },
            "text/plain": "ColorPicker(value='#000000', description='Picture color')"
          },
          "metadata": {}
        }
      ]
    },
    {
      "metadata": {
        "trusted": true
      },
      "cell_type": "code",
      "source": "file = open(\"qrcode.png\", \"rb\")\nimage = file.read()\n    \nqrImage = widgets.Image(\n    value=image,\n    format='png',\n    width=300,\n    height=400,\n)\n\n",
      "execution_count": 262,
      "outputs": []
    },
    {
      "metadata": {
        "trusted": true
      },
      "cell_type": "code",
      "source": "out = Output()\nout",
      "execution_count": 263,
      "outputs": [
        {
          "output_type": "display_data",
          "data": {
            "application/vnd.jupyter.widget-view+json": {
              "model_id": "ef1cd8a0551443de94a34d604bcc07e1",
              "version_minor": 0,
              "version_major": 2
            },
            "text/plain": "Output()"
          },
          "metadata": {}
        }
      ]
    },
    {
      "metadata": {
        "trusted": true
      },
      "cell_type": "code",
      "source": "def createQRCode(b): \n    global image\n    global logo_picture\n    logo_picture_color = hex_to_rgb(pcolor.value)\n    logo_picture_color = logo_picture_color + (255,)\n    font = ImageFont.truetype(\"fonts/SourceCodePro-Black.ttf\", fsize.value, encoding=\"unic\")\n    # QRCode size\n    QRcode_size = scale.value\n    # Border around qrcode\n    border_size = bsize.value\n    # How big the logo we want to put in the qr code png (not more than 180 if QRcode_size is 10)\n    logo_size = lsize.value\n    # QR Code color\n    qrc_color = qcolor.value\n    # QR Code background color\n    bkrnd_color = bgcolor.value\n\n    message = qrtxt.value\n\n    if hidc.value:\n        Hidden = \"True\"\n    else:\n        Hidden = \"False\"\n\n    wifi = \"WIFI:S:\" + ssidt.value + \";T:\" + Security.value + \";P:\" + pwdt.value + \";H:\" + str(hidc.value) + \";\"\n\n    qrobj = pyqrcode.create(wifi)\n\n    with open('images/temp.png', 'wb') as f:\n        qrobj.png(f, scale=QRcode_size, module_color=qrc_color, background=bkrnd_color, quiet_zone=border_size)\n\n    # Open the logo image\n    logo = Image.open(logo_picture).convert('RGBA')\n    pixdata = logo.load()\n\n    # Clean the background noise, if color != white, then set to black.\n\n    for y in range(logo.size[1]):\n        for x in range(logo.size[0]):\n            if pixdata[x, y] == (0, 0, 0, 255):\n                pixdata[x, y] = logo_picture_color\n\n    img = Image.open('images/temp.png')\n    img = img.convert(\"RGBA\")\n    width, _ = img.size\n\n    # Calculate xmin, ymin, xmax, ymax to put the logo\n    xmin = ymin = int((width / 2) - (logo_size / 2))\n    xmax = ymax = int((width / 2) + (logo_size / 2))\n\n    button_img = Image.new('RGBA', ((xmax - xmin, ymax - ymin)), \"white\")\n\n    # resize the logo as calculated\n    logo = logo.resize((xmax - xmin, ymax - ymin))\n\n    # put the logo in the qr code\n    img.paste(logo, (xmin, ymin, xmax, ymax))\n\n    # get the line size\n    text_width, text_height = font.getsize(message\n                                          )\n    button_draw = ImageDraw.Draw(img)\n    txtX = int((width - text_width)/2)\n    button_draw.text((txtX, 5), message,fcolor.value ,font=font)\n\n    img.save('qrcode.png')\n    file = open(\"qrcode.png\", \"rb\")\n    image = file.read()\n    \n    with out:\n        clear_output(wait=True)\n        qrImage.value = image\n        display(qrImage)\n        display(create_download_link())    \n",
      "execution_count": 264,
      "outputs": []
    },
    {
      "metadata": {
        "trusted": true
      },
      "cell_type": "code",
      "source": "get_data_button = widgets.Button(description='Create QR Code')\n# DISPLAY BUTTON\nget_data_button.on_click(createQRCode)\ndisplay(get_data_button)",
      "execution_count": 265,
      "outputs": [
        {
          "output_type": "display_data",
          "data": {
            "application/vnd.jupyter.widget-view+json": {
              "model_id": "4bdb6a9e334e4e40a4859f532672a3ec",
              "version_minor": 0,
              "version_major": 2
            },
            "text/plain": "Button(description='Create QR Code', style=ButtonStyle())"
          },
          "metadata": {}
        }
      ]
    },
    {
      "metadata": {
        "trusted": true
      },
      "cell_type": "code",
      "source": "from IPython.display import HTML\ndef create_download_link(title = \"Download QR Code\", filename = 'qrcode.png'):  \n    img = Image.open('qrcode.png')\n    outputBuffer = BytesIO()\n    img.save(outputBuffer, format='PNG')\n    bgBase64Data = outputBuffer.getvalue()\n\n# http://stackoverflow.com/q/16748083/2603230\n    imgb64 = base64.b64encode(bgBase64Data).decode()\n    html = '<a download=\"{filename}\" href=\"data:image/png;base64,{payload}\" target=\"_blank\">{title}</a>'\n    html = html.format(payload=imgb64,title=title,filename=filename)\n    return HTML(html)\n\n#create_download_link()",
      "execution_count": 266,
      "outputs": []
    }
  ],
  "metadata": {
    "kernelspec": {
      "name": "python36",
      "display_name": "Python 3.6",
      "language": "python"
    },
    "language_info": {
      "mimetype": "text/x-python",
      "nbconvert_exporter": "python",
      "name": "python",
      "pygments_lexer": "ipython3",
      "version": "3.6.6",
      "file_extension": ".py",
      "codemirror_mode": {
        "version": 3,
        "name": "ipython"
      }
    }
  },
  "nbformat": 4,
  "nbformat_minor": 2
}